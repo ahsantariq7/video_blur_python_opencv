{
 "cells": [
  {
   "cell_type": "code",
   "execution_count": 5,
   "id": "85ebd1af-66ac-4b75-9d6e-f476a679bab1",
   "metadata": {},
   "outputs": [],
   "source": [
    "import cv2\n",
    "\n",
    "def apply_full_blur(input_video_path, output_video_path):\n",
    "    # Open the video file\n",
    "    cap = cv2.VideoCapture(input_video_path)\n",
    "\n",
    "    # Get video properties\n",
    "    width = int(cap.get(3))\n",
    "    height = int(cap.get(4))\n",
    "    fps = cap.get(5)\n",
    "\n",
    "    # Create VideoWriter object to save the output video\n",
    "    fourcc = cv2.VideoWriter_fourcc(*'mp4v')  # Change codec to mp4v\n",
    "    out = cv2.VideoWriter(output_video_path, fourcc, fps, (width, height))\n",
    "\n",
    "    while True:\n",
    "        # Read a frame from the video\n",
    "        ret, frame = cap.read()\n",
    "\n",
    "        # Break the loop if the video is finished\n",
    "        if not ret:\n",
    "            break\n",
    "\n",
    "        # Apply more blur to the entire frame\n",
    "        blurred_frame = cv2.GaussianBlur(frame, (25, 25), 0)\n",
    "\n",
    "        # Write the blurred frame to the output video\n",
    "        out.write(blurred_frame)\n",
    "\n",
    "        # Display the original and blurred frames (optional)\n",
    "        cv2.imshow('Original', frame)\n",
    "        cv2.imshow('Blurred', blurred_frame)\n",
    "\n",
    "        # Break the loop if 'q' is pressed\n",
    "        if cv2.waitKey(1) & 0xFF == ord('q'):\n",
    "            break\n",
    "\n",
    "    # Release the VideoCapture and VideoWriter objects\n",
    "    cap.release()\n",
    "    out.release()\n",
    "\n",
    "    # Close all OpenCV windows\n",
    "    cv2.destroyAllWindows()\n",
    "\n",
    "if __name__ == \"__main__\":\n",
    "    input_path = \"input_video.mp4\"  # Replace with your input video file\n",
    "    output_path = \"output_video_blurred.mp4\"\n",
    "    apply_full_blur(input_path, output_path)\n"
   ]
  },
  {
   "cell_type": "code",
   "execution_count": null,
   "id": "c4cf7332-ba41-4288-a098-8d2dd11fb600",
   "metadata": {},
   "outputs": [],
   "source": []
  }
 ],
 "metadata": {
  "kernelspec": {
   "display_name": "Python 3 (ipykernel)",
   "language": "python",
   "name": "python3"
  },
  "language_info": {
   "codemirror_mode": {
    "name": "ipython",
    "version": 3
   },
   "file_extension": ".py",
   "mimetype": "text/x-python",
   "name": "python",
   "nbconvert_exporter": "python",
   "pygments_lexer": "ipython3",
   "version": "3.8.10"
  }
 },
 "nbformat": 4,
 "nbformat_minor": 5
}
